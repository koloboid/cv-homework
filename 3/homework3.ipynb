{
 "cells": [
  {
   "cell_type": "markdown",
   "metadata": {},
   "source": [
    "# HOMEWORK 3\n",
    "\n",
    "For this homework you are going to implement the **unsharp masking** filter (USM). It is a technique to improve the sharpness of an image by combining the image with its blurred (unsharp) version. See the Wikipedia [page](https://en.wikipedia.org/wiki/Unsharp_masking) for more details.\n",
    "\n",
    "### Unsharp Masking (USP)\n",
    "The USM technique consists of the following steps:\n",
    "* Load the image you will be working with.\n",
    "* Create a blurred (unsharp) version of the original image.\n",
    "* Add the unsharp image (with a certain **weight**) to the original.\n",
    "\n",
    "To sum it up, the USM performs the following operation:\n",
    "\n",
    "`sharpened = original + (original − unsharp) × amount`\n",
    "\n",
    "Even though we provide you an image to work with, you are welcome to use your own images :-)"
   ]
  },
  {
   "cell_type": "code",
   "execution_count": null,
   "metadata": {},
   "outputs": [],
   "source": [
    "import cv2\n",
    "from matplotlib import pyplot as plt\n",
    "plt.rcParams['figure.figsize'] = [15, 10]"
   ]
  },
  {
   "cell_type": "code",
   "execution_count": null,
   "metadata": {},
   "outputs": [],
   "source": [
    "variants = [\n",
    "    # Need more blur, more sharpening. Algorithm quality marked as \"cool\" by camera operators. Need to tune\n",
    "    ('image1.png', (15,15), 5, 5),\n",
    "    # Iteresting case, from AI sharpening solution. Less blur, less sharpening\n",
    "    ('image2.jpg', (5,5), 5, 2),\n",
    "    # Very noisy image, need more blur, more sharpening, unacceptable quality\n",
    "    ('image3.jpg', (15,15), 5, 5)\n",
    "]\n",
    "\n",
    "# Please select the variant to run\n",
    "variant = variants[1]\n",
    "\n",
    "ksize=variant[1]\n",
    "sigmaX=variant[2]\n",
    "amount=variant[3]\n",
    "img = cv2.imread(variant[0])\n",
    "img = cv2.cvtColor(img, cv2.COLOR_BGR2RGB)\n",
    "plt.imshow(img)"
   ]
  },
  {
   "cell_type": "code",
   "execution_count": null,
   "metadata": {},
   "outputs": [],
   "source": [
    "%%timeit -n 10\n",
    "\n",
    "# I'm using OpenCV add/subtract/multiply functions to prevent overflow/underflow (instead of float32 mat). Is it correct?\n",
    "\n",
    "unsharp = cv2.GaussianBlur(img, ksize=ksize, sigmaX=sigmaX)\n",
    "diff = cv2.subtract(img, unsharp)\n",
    "sharpened = cv2.add(img, cv2.multiply(diff, amount))"
   ]
  },
  {
   "cell_type": "code",
   "execution_count": null,
   "metadata": {},
   "outputs": [],
   "source": [
    "unsharp = cv2.GaussianBlur(img, ksize=ksize, sigmaX=sigmaX)\n",
    "diff = cv2.subtract(img, unsharp)\n",
    "sharpened = cv2.add(img, cv2.multiply(diff, amount))"
   ]
  },
  {
   "cell_type": "code",
   "execution_count": null,
   "metadata": {},
   "outputs": [],
   "source": [
    "plt.imshow(unsharp)"
   ]
  },
  {
   "cell_type": "code",
   "execution_count": null,
   "metadata": {},
   "outputs": [],
   "source": [
    "plt.imshow(diff * amount)"
   ]
  },
  {
   "cell_type": "code",
   "execution_count": null,
   "metadata": {},
   "outputs": [],
   "source": [
    "plt.imshow(sharpened)"
   ]
  },
  {
   "cell_type": "code",
   "execution_count": null,
   "metadata": {},
   "outputs": [],
   "source": [
    "plt.imshow(img)"
   ]
  },
  {
   "cell_type": "markdown",
   "metadata": {},
   "source": [
    "### Questions\n",
    "* What is a good (reasonable) value for the `amount` parameter?\n",
    " * What happens if it is too small?\n",
    " * What happens if it is too large?"
   ]
  },
  {
   "cell_type": "markdown",
   "metadata": {},
   "source": [
    "Amount (as well as Gaussian kernel size and sigma) are depends on the image size and content. I think a good value for amount is between 2 and 5. If it is too small, the sharpening effect is not obvious. If it is too large, the image will look unnatural and may introduce artifacts, and cartoon-like effect."
   ]
  }
 ],
 "metadata": {
  "kernelspec": {
   "display_name": "cv",
   "language": "python",
   "name": "python3"
  },
  "language_info": {
   "codemirror_mode": {
    "name": "ipython",
    "version": 3
   },
   "file_extension": ".py",
   "mimetype": "text/x-python",
   "name": "python",
   "nbconvert_exporter": "python",
   "pygments_lexer": "ipython3",
   "version": "3.13.5"
  }
 },
 "nbformat": 4,
 "nbformat_minor": 4
}
